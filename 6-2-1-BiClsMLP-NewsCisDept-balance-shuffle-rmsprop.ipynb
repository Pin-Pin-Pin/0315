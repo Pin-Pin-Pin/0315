{
 "cells": [
  {
   "cell_type": "code",
   "execution_count": 1,
   "metadata": {
    "ExecuteTime": {
     "end_time": "2021-07-01T10:15:30.108457Z",
     "start_time": "2021-07-01T10:15:28.895896Z"
    }
   },
   "outputs": [
    {
     "name": "stderr",
     "output_type": "stream",
     "text": [
      "/home/abner0908/anaconda2/lib/python3.7/site-packages/tensorflow/python/framework/dtypes.py:516: FutureWarning: Passing (type, 1) or '1type' as a synonym of type is deprecated; in a future version of numpy, it will be understood as (type, (1,)) / '(1,)type'.\n",
      "  _np_qint8 = np.dtype([(\"qint8\", np.int8, 1)])\n",
      "/home/abner0908/anaconda2/lib/python3.7/site-packages/tensorflow/python/framework/dtypes.py:517: FutureWarning: Passing (type, 1) or '1type' as a synonym of type is deprecated; in a future version of numpy, it will be understood as (type, (1,)) / '(1,)type'.\n",
      "  _np_quint8 = np.dtype([(\"quint8\", np.uint8, 1)])\n",
      "/home/abner0908/anaconda2/lib/python3.7/site-packages/tensorflow/python/framework/dtypes.py:518: FutureWarning: Passing (type, 1) or '1type' as a synonym of type is deprecated; in a future version of numpy, it will be understood as (type, (1,)) / '(1,)type'.\n",
      "  _np_qint16 = np.dtype([(\"qint16\", np.int16, 1)])\n",
      "/home/abner0908/anaconda2/lib/python3.7/site-packages/tensorflow/python/framework/dtypes.py:519: FutureWarning: Passing (type, 1) or '1type' as a synonym of type is deprecated; in a future version of numpy, it will be understood as (type, (1,)) / '(1,)type'.\n",
      "  _np_quint16 = np.dtype([(\"quint16\", np.uint16, 1)])\n",
      "/home/abner0908/anaconda2/lib/python3.7/site-packages/tensorflow/python/framework/dtypes.py:520: FutureWarning: Passing (type, 1) or '1type' as a synonym of type is deprecated; in a future version of numpy, it will be understood as (type, (1,)) / '(1,)type'.\n",
      "  _np_qint32 = np.dtype([(\"qint32\", np.int32, 1)])\n",
      "/home/abner0908/anaconda2/lib/python3.7/site-packages/tensorflow/python/framework/dtypes.py:525: FutureWarning: Passing (type, 1) or '1type' as a synonym of type is deprecated; in a future version of numpy, it will be understood as (type, (1,)) / '(1,)type'.\n",
      "  np_resource = np.dtype([(\"resource\", np.ubyte, 1)])\n",
      "/home/abner0908/anaconda2/lib/python3.7/site-packages/tensorboard/compat/tensorflow_stub/dtypes.py:541: FutureWarning: Passing (type, 1) or '1type' as a synonym of type is deprecated; in a future version of numpy, it will be understood as (type, (1,)) / '(1,)type'.\n",
      "  _np_qint8 = np.dtype([(\"qint8\", np.int8, 1)])\n",
      "/home/abner0908/anaconda2/lib/python3.7/site-packages/tensorboard/compat/tensorflow_stub/dtypes.py:542: FutureWarning: Passing (type, 1) or '1type' as a synonym of type is deprecated; in a future version of numpy, it will be understood as (type, (1,)) / '(1,)type'.\n",
      "  _np_quint8 = np.dtype([(\"quint8\", np.uint8, 1)])\n",
      "/home/abner0908/anaconda2/lib/python3.7/site-packages/tensorboard/compat/tensorflow_stub/dtypes.py:543: FutureWarning: Passing (type, 1) or '1type' as a synonym of type is deprecated; in a future version of numpy, it will be understood as (type, (1,)) / '(1,)type'.\n",
      "  _np_qint16 = np.dtype([(\"qint16\", np.int16, 1)])\n",
      "/home/abner0908/anaconda2/lib/python3.7/site-packages/tensorboard/compat/tensorflow_stub/dtypes.py:544: FutureWarning: Passing (type, 1) or '1type' as a synonym of type is deprecated; in a future version of numpy, it will be understood as (type, (1,)) / '(1,)type'.\n",
      "  _np_quint16 = np.dtype([(\"quint16\", np.uint16, 1)])\n",
      "/home/abner0908/anaconda2/lib/python3.7/site-packages/tensorboard/compat/tensorflow_stub/dtypes.py:545: FutureWarning: Passing (type, 1) or '1type' as a synonym of type is deprecated; in a future version of numpy, it will be understood as (type, (1,)) / '(1,)type'.\n",
      "  _np_qint32 = np.dtype([(\"qint32\", np.int32, 1)])\n",
      "/home/abner0908/anaconda2/lib/python3.7/site-packages/tensorboard/compat/tensorflow_stub/dtypes.py:550: FutureWarning: Passing (type, 1) or '1type' as a synonym of type is deprecated; in a future version of numpy, it will be understood as (type, (1,)) / '(1,)type'.\n",
      "  np_resource = np.dtype([(\"resource\", np.ubyte, 1)])\n",
      "Using TensorFlow backend.\n"
     ]
    }
   ],
   "source": [
    "# -*- coding: utf-8 -*-\n",
    "\"\"\"\n",
    "Revised on Jun.8.2021\n",
    "\n",
    "6-2-BiClsMLP-NewsCisDept-scrambled-rmsprop\n",
    "\n",
    "@author: Johnson\n",
    "\n",
    "\"\"\"\n",
    "import csv\n",
    "import logging\n",
    "from tensorflow import keras\n",
    "from tensorflow.keras.preprocessing import sequence\n",
    "from tensorflow.keras.preprocessing.text import Tokenizer\n",
    "from tensorflow.keras.models import Sequential, load_model\n",
    "from keras.layers.core import Dense, Dropout, Activation, Flatten\n",
    "from keras.layers.embeddings import Embedding\n",
    "from keras.layers.recurrent import SimpleRNN, LSTM\n",
    "import numpy as np\n",
    "from numpy import asarray \n",
    "from numpy import zeros\n",
    "import matplotlib.pyplot as plt\n",
    "\n",
    "logging.basicConfig(format='%(asctime)s : %(levelname)s : %(message)s', level=logging.INFO)"
   ]
  },
  {
   "cell_type": "code",
   "execution_count": null,
   "metadata": {},
   "outputs": [],
   "source": [
    "# log:\n",
    "\n",
    "# 2021.6.9 16:xx  (max_length = 1000,output_dim=512, epochs=20, 1-3rd Dense(), Dropout(0.1), batch_size=512)  => Ok\n",
    "# vocab_size = 70000\n",
    "# max_length = 1000\n",
    "# model.add(Embedding(output_dim=512, input_dim=vocab_size, input_length=max_length)) \n",
    "# history = model.fit(x_train, trainLabel, batch_size=512, epochs=20, verbose=2, validation_data=(x_test,testLabel))\n",
    "# Accuracy: 83.807695\n",
    "\n",
    "# 2021.6.19: (max_length = 1000,output_dim=512, epochs=20, 1-3rd Dense(), Dropout(0.1), batch_size=50)\n",
    "# vocab_size = 70000\n",
    "# max_length = 1000\n",
    "# valid length = 2000, train length= 8000\n",
    "# model.add(Embedding(output_dim=512, input_dim=vocab_size, input_length=max_length)) \n",
    "# history = model.fit(partial_x_train, partial_trainLabel, batch_size=50, epochs=20, verbose=2, validation_data=(x_val,y_val))\n",
    "# Accuracy: 80-83"
   ]
  },
  {
   "cell_type": "markdown",
   "metadata": {},
   "source": [
    "## Step 1: Read KCC News, Cis, and Dept data\n",
    "### 原始資料來源: NewsCisDepAll-35325.csv\n",
    "#### (1) 首段為2009.1至2019.8高雄市議會新聞約 11,554筆\n",
    "#### (2) 中段為1屆1次至2屆8次議事錄市政總質詢約 7,296筆 (經人工依主題分段)\n",
    "#### (3) 末段為1屆1次至3屆1次部門質詢約16,600筆（已分段）\n",
    "### 標記資料說明:\n",
    "#### (1) L1-CkipNewsCisDepLable-10140-KccDict2020-NoSynonym.txt\n",
    "####      總數約10,140 筆, 按原始資料順序於Category欄標記類別, Sentiment欄標記情緒, 並以CkipTagger(辭典KccDict2020, 無同義字)斷詞\n",
    "#### (2) L1-CkipNewsCisDepLable-10140-KccDict2020-NoSynonym-pos-neg-balance.txt\n",
    "#### =>  同(1), 惟依 Sentiment 欄排序, 前段 2,451 Sentiment 欄為0, 後段2,451 筆均為 1\n",
    "#### (3) L1-CkipNewsCisDepLable-10140-KccDict2020-NoSynonym - Sort by sent.txt  \n",
    "#### =>  同(1), 惟依 Sentiment 欄排序, 前段 7,689 Sentiment 欄為0, 後段2,451 筆均為 1\n",
    "#### (4) L1-CkipNewsCisDepLable-10140-KccDict2020-NoSynonym - Sort by cat.txt  \n",
    "#### =>  同 (1), 惟依 Category 欄由 0至72 排序\n",
    "### dump labeled data into train and test list from labeled file\n",
    "### 資料長度: 斷詞後News最長約500字, CIS分割後每筆最長約1000字, Dept 分割後每筆最長約800字"
   ]
  },
  {
   "cell_type": "code",
   "execution_count": 287,
   "metadata": {
    "ExecuteTime": {
     "end_time": "2021-07-03T03:46:38.217164Z",
     "start_time": "2021-07-03T03:46:37.732608Z"
    }
   },
   "outputs": [
    {
     "name": "stdout",
     "output_type": "stream",
     "text": [
      "總輸入檔案筆數:  5\n",
      "row[0] =  10144\n",
      "----------------------------------\n"
     ]
    }
   ],
   "source": [
    "csvIn = open(\"L1-CkipNewsCisDepLable-10140-KccDict2020-NoSynonym.txt\", 'r', newline='', encoding='utf-8-sig')\n",
    "#KCC Data/WS Out/L1-CkipNewsCisDepLable-10140-KccDict2020-NoSynonym-pos-neg-balance.txt\"\n",
    "#這ㄍ有沒有混到其它資料、出現在哪\n",
    "rowlists =csv.reader(csvIn)        # read train data from labeled file\n",
    "tmpLab = []\n",
    "tmpTx = []\n",
    "tmpFilename=[]\n",
    "tmpCunt = 0\n",
    "for row in rowlists:\n",
    "    # 濾除未標記和過短資料\n",
    "    if (row[3] == \"1\" or row[3] == \"0\") and (len(row[4]) > 50) and ((\"/\" in row[1])==False):\n",
    "        tmpLab.append(int(row[3]))\n",
    "        tmpTx.append(row[4])\n",
    "        tmpFilename.append(row[1])\n",
    "        tmpCunt += 1\n",
    "csvIn.close()\n",
    "print(\"總輸入檔案筆數: \",len(row))\n",
    "print(\"row[0] = \",row[0]) #第4-5 筆資料\n",
    "print(\"----------------------------------\")\n",
    "data = np.array(tmpTx)\n",
    "labels = np.array(tmpLab)\n",
    "indices = np.arange(data.shape[0])\n",
    "random.seed(1)\n",
    "np.random.shuffle(indices)\n",
    "data = data[indices]\n",
    "labels = labels[indices]\n",
    "t_data=pd.DataFrame({'labels':pd.Series(labels),'text':pd.Series(data)})\n",
    "#print(t_data.loc[0:4])\n",
    "from sklearn.model_selection import train_test_split\n",
    "train_t_data, test_t_data = train_test_split(t_data, random_state=1, train_size=0.8)"
   ]
  },
  {
   "cell_type": "code",
   "execution_count": 291,
   "metadata": {
    "ExecuteTime": {
     "end_time": "2021-07-03T03:47:56.298723Z",
     "start_time": "2021-07-03T03:47:56.123233Z"
    }
   },
   "outputs": [
    {
     "name": "stdout",
     "output_type": "stream",
     "text": [
      "Total predict records =  6456\n"
     ]
    }
   ],
   "source": [
    "csv10140_path = \"L1-CkipNewsCisDepLable-10140-KccDict2020-NoSynonym.txt.csv\"\n",
    "with open(csv10140_path ,\"w\", newline='', encoding='utf-8-sig') as csvNew_file:\n",
    "    writer = csv.writer(csvNew_file)\n",
    "    writer.writerow([\"SeqNO\",\"FileName\",\"Sentiment\",\"Text\"])\n",
    "    for i in range(0,tmpCunt):\n",
    "        writer.writerow([i+1,tmpFilename[i],tmpLab[i],tmpTx[i]])\n",
    "print(\"Total predict records = \", i)"
   ]
  },
  {
   "cell_type": "code",
   "execution_count": 213,
   "metadata": {
    "ExecuteTime": {
     "end_time": "2021-07-02T13:02:48.573840Z",
     "start_time": "2021-07-02T13:02:48.494332Z"
    }
   },
   "outputs": [
    {
     "name": "stdout",
     "output_type": "stream",
     "text": [
      "897\n",
      "4268\n"
     ]
    },
    {
     "data": {
      "text/plain": [
       "4485"
      ]
     },
     "execution_count": 213,
     "metadata": {},
     "output_type": "execute_result"
    }
   ],
   "source": [
    "train_s1Tx = []    \n",
    "train_s0Tx = []   \n",
    "for i in range(0,len(train_t_data)):\n",
    "    if  train_t_data['labels'].iloc[i]==1 : \n",
    "        train_s1Tx.append(train_t_data['text'].iloc[i])\n",
    "    \n",
    "    else :\n",
    "        train_s0Tx.append(train_t_data['text'].iloc[i])   \n",
    "\n",
    "print(len(train_s1Tx))\n",
    "print(len(train_s0Tx))\n",
    "#train_s1Tx=train_s1Tx.repeat(5)\n",
    "train_s1Tx = sorted(train_s1Tx*5)\n",
    "random.seed(1)\n",
    "random.shuffle(train_s1Tx)\n",
    "len(train_s1Tx)"
   ]
  },
  {
   "cell_type": "code",
   "execution_count": 196,
   "metadata": {
    "ExecuteTime": {
     "end_time": "2021-07-02T12:36:43.214900Z",
     "start_time": "2021-07-02T12:36:43.208982Z"
    }
   },
   "outputs": [
    {
     "name": "stdout",
     "output_type": "stream",
     "text": [
      "[1, 1, 1, 1, 1, 1, 1, 1, 1, 1, 1, 1, 1, 1, 1, 1, 1, 1, 1]\n",
      "[0, 0, 0, 0, 0, 0, 0, 0, 0, 0, 0, 0, 0, 0, 0, 0, 0, 0, 0]\n"
     ]
    }
   ],
   "source": [
    "#type(train_s1Tx)\n",
    "label_1=[1]\n",
    "label_0=[0]\n",
    "label_1 = sorted(label_1*len(train_s1Tx))\n",
    "label_0 = sorted(label_0*len(train_s0Tx))\n"
   ]
  },
  {
   "cell_type": "code",
   "execution_count": 207,
   "metadata": {
    "ExecuteTime": {
     "end_time": "2021-07-02T12:49:56.017655Z",
     "start_time": "2021-07-02T12:49:55.955975Z"
    }
   },
   "outputs": [
    {
     "ename": "KeyError",
     "evalue": "2201",
     "output_type": "error",
     "traceback": [
      "\u001b[0;31m---------------------------------------------------------------------------\u001b[0m",
      "\u001b[0;31mKeyError\u001b[0m                                  Traceback (most recent call last)",
      "\u001b[0;32m~/anaconda2/lib/python3.7/site-packages/pandas/core/indexes/base.py\u001b[0m in \u001b[0;36mget_loc\u001b[0;34m(self, key, method, tolerance)\u001b[0m\n\u001b[1;32m   2896\u001b[0m             \u001b[0;32mtry\u001b[0m\u001b[0;34m:\u001b[0m\u001b[0;34m\u001b[0m\u001b[0;34m\u001b[0m\u001b[0m\n\u001b[0;32m-> 2897\u001b[0;31m                 \u001b[0;32mreturn\u001b[0m \u001b[0mself\u001b[0m\u001b[0;34m.\u001b[0m\u001b[0m_engine\u001b[0m\u001b[0;34m.\u001b[0m\u001b[0mget_loc\u001b[0m\u001b[0;34m(\u001b[0m\u001b[0mkey\u001b[0m\u001b[0;34m)\u001b[0m\u001b[0;34m\u001b[0m\u001b[0;34m\u001b[0m\u001b[0m\n\u001b[0m\u001b[1;32m   2898\u001b[0m             \u001b[0;32mexcept\u001b[0m \u001b[0mKeyError\u001b[0m\u001b[0;34m:\u001b[0m\u001b[0;34m\u001b[0m\u001b[0;34m\u001b[0m\u001b[0m\n",
      "\u001b[0;32mpandas/_libs/index.pyx\u001b[0m in \u001b[0;36mpandas._libs.index.IndexEngine.get_loc\u001b[0;34m()\u001b[0m\n",
      "\u001b[0;32mpandas/_libs/index.pyx\u001b[0m in \u001b[0;36mpandas._libs.index.IndexEngine.get_loc\u001b[0;34m()\u001b[0m\n",
      "\u001b[0;32mpandas/_libs/hashtable_class_helper.pxi\u001b[0m in \u001b[0;36mpandas._libs.hashtable.PyObjectHashTable.get_item\u001b[0;34m()\u001b[0m\n",
      "\u001b[0;32mpandas/_libs/hashtable_class_helper.pxi\u001b[0m in \u001b[0;36mpandas._libs.hashtable.PyObjectHashTable.get_item\u001b[0;34m()\u001b[0m\n",
      "\u001b[0;31mKeyError\u001b[0m: 2201",
      "\nDuring handling of the above exception, another exception occurred:\n",
      "\u001b[0;31mKeyError\u001b[0m                                  Traceback (most recent call last)",
      "\u001b[0;32m<ipython-input-207-cb199121552d>\u001b[0m in \u001b[0;36m<module>\u001b[0;34m\u001b[0m\n\u001b[1;32m      2\u001b[0m \u001b[0mtrain_s0\u001b[0m\u001b[0;34m=\u001b[0m\u001b[0mpd\u001b[0m\u001b[0;34m.\u001b[0m\u001b[0mDataFrame\u001b[0m\u001b[0;34m(\u001b[0m\u001b[0;34m{\u001b[0m\u001b[0;34m'labels'\u001b[0m\u001b[0;34m:\u001b[0m\u001b[0mpd\u001b[0m\u001b[0;34m.\u001b[0m\u001b[0mSeries\u001b[0m\u001b[0;34m(\u001b[0m\u001b[0mlabel_0\u001b[0m\u001b[0;34m)\u001b[0m\u001b[0;34m,\u001b[0m\u001b[0;34m'text'\u001b[0m\u001b[0;34m:\u001b[0m\u001b[0mpd\u001b[0m\u001b[0;34m.\u001b[0m\u001b[0mSeries\u001b[0m\u001b[0;34m(\u001b[0m\u001b[0mtrain_s0Tx\u001b[0m\u001b[0;34m)\u001b[0m\u001b[0;34m}\u001b[0m\u001b[0;34m)\u001b[0m\u001b[0;34m\u001b[0m\u001b[0;34m\u001b[0m\u001b[0m\n\u001b[1;32m      3\u001b[0m \u001b[0mtrain\u001b[0m\u001b[0;34m=\u001b[0m\u001b[0mpd\u001b[0m\u001b[0;34m.\u001b[0m\u001b[0mconcat\u001b[0m\u001b[0;34m(\u001b[0m\u001b[0;34m[\u001b[0m\u001b[0mtrain_s1\u001b[0m\u001b[0;34m,\u001b[0m \u001b[0mtrain_s0\u001b[0m\u001b[0;34m]\u001b[0m\u001b[0;34m)\u001b[0m \u001b[0;31m# axis=0 as defaul\u001b[0m\u001b[0;34m\u001b[0m\u001b[0;34m\u001b[0m\u001b[0m\n\u001b[0;32m----> 4\u001b[0;31m \u001b[0mrandom\u001b[0m\u001b[0;34m.\u001b[0m\u001b[0mshuffle\u001b[0m\u001b[0;34m(\u001b[0m\u001b[0mtrain\u001b[0m\u001b[0;34m)\u001b[0m\u001b[0;34m\u001b[0m\u001b[0;34m\u001b[0m\u001b[0m\n\u001b[0m\u001b[1;32m      5\u001b[0m \u001b[0;31m#train_s1,train_s0合併然後打散\u001b[0m\u001b[0;34m\u001b[0m\u001b[0;34m\u001b[0m\u001b[0;34m\u001b[0m\u001b[0m\n",
      "\u001b[0;32m~/anaconda2/lib/python3.7/random.py\u001b[0m in \u001b[0;36mshuffle\u001b[0;34m(self, x, random)\u001b[0m\n\u001b[1;32m    276\u001b[0m                 \u001b[0;31m# pick an element in x[:i+1] with which to exchange x[i]\u001b[0m\u001b[0;34m\u001b[0m\u001b[0;34m\u001b[0m\u001b[0;34m\u001b[0m\u001b[0m\n\u001b[1;32m    277\u001b[0m                 \u001b[0mj\u001b[0m \u001b[0;34m=\u001b[0m \u001b[0mrandbelow\u001b[0m\u001b[0;34m(\u001b[0m\u001b[0mi\u001b[0m\u001b[0;34m+\u001b[0m\u001b[0;36m1\u001b[0m\u001b[0;34m)\u001b[0m\u001b[0;34m\u001b[0m\u001b[0;34m\u001b[0m\u001b[0m\n\u001b[0;32m--> 278\u001b[0;31m                 \u001b[0mx\u001b[0m\u001b[0;34m[\u001b[0m\u001b[0mi\u001b[0m\u001b[0;34m]\u001b[0m\u001b[0;34m,\u001b[0m \u001b[0mx\u001b[0m\u001b[0;34m[\u001b[0m\u001b[0mj\u001b[0m\u001b[0;34m]\u001b[0m \u001b[0;34m=\u001b[0m \u001b[0mx\u001b[0m\u001b[0;34m[\u001b[0m\u001b[0mj\u001b[0m\u001b[0;34m]\u001b[0m\u001b[0;34m,\u001b[0m \u001b[0mx\u001b[0m\u001b[0;34m[\u001b[0m\u001b[0mi\u001b[0m\u001b[0;34m]\u001b[0m\u001b[0;34m\u001b[0m\u001b[0;34m\u001b[0m\u001b[0m\n\u001b[0m\u001b[1;32m    279\u001b[0m         \u001b[0;32melse\u001b[0m\u001b[0;34m:\u001b[0m\u001b[0;34m\u001b[0m\u001b[0;34m\u001b[0m\u001b[0m\n\u001b[1;32m    280\u001b[0m             \u001b[0m_int\u001b[0m \u001b[0;34m=\u001b[0m \u001b[0mint\u001b[0m\u001b[0;34m\u001b[0m\u001b[0;34m\u001b[0m\u001b[0m\n",
      "\u001b[0;32m~/anaconda2/lib/python3.7/site-packages/pandas/core/frame.py\u001b[0m in \u001b[0;36m__getitem__\u001b[0;34m(self, key)\u001b[0m\n\u001b[1;32m   2993\u001b[0m             \u001b[0;32mif\u001b[0m \u001b[0mself\u001b[0m\u001b[0;34m.\u001b[0m\u001b[0mcolumns\u001b[0m\u001b[0;34m.\u001b[0m\u001b[0mnlevels\u001b[0m \u001b[0;34m>\u001b[0m \u001b[0;36m1\u001b[0m\u001b[0;34m:\u001b[0m\u001b[0;34m\u001b[0m\u001b[0;34m\u001b[0m\u001b[0m\n\u001b[1;32m   2994\u001b[0m                 \u001b[0;32mreturn\u001b[0m \u001b[0mself\u001b[0m\u001b[0;34m.\u001b[0m\u001b[0m_getitem_multilevel\u001b[0m\u001b[0;34m(\u001b[0m\u001b[0mkey\u001b[0m\u001b[0;34m)\u001b[0m\u001b[0;34m\u001b[0m\u001b[0;34m\u001b[0m\u001b[0m\n\u001b[0;32m-> 2995\u001b[0;31m             \u001b[0mindexer\u001b[0m \u001b[0;34m=\u001b[0m \u001b[0mself\u001b[0m\u001b[0;34m.\u001b[0m\u001b[0mcolumns\u001b[0m\u001b[0;34m.\u001b[0m\u001b[0mget_loc\u001b[0m\u001b[0;34m(\u001b[0m\u001b[0mkey\u001b[0m\u001b[0;34m)\u001b[0m\u001b[0;34m\u001b[0m\u001b[0;34m\u001b[0m\u001b[0m\n\u001b[0m\u001b[1;32m   2996\u001b[0m             \u001b[0;32mif\u001b[0m \u001b[0mis_integer\u001b[0m\u001b[0;34m(\u001b[0m\u001b[0mindexer\u001b[0m\u001b[0;34m)\u001b[0m\u001b[0;34m:\u001b[0m\u001b[0;34m\u001b[0m\u001b[0;34m\u001b[0m\u001b[0m\n\u001b[1;32m   2997\u001b[0m                 \u001b[0mindexer\u001b[0m \u001b[0;34m=\u001b[0m \u001b[0;34m[\u001b[0m\u001b[0mindexer\u001b[0m\u001b[0;34m]\u001b[0m\u001b[0;34m\u001b[0m\u001b[0;34m\u001b[0m\u001b[0m\n",
      "\u001b[0;32m~/anaconda2/lib/python3.7/site-packages/pandas/core/indexes/base.py\u001b[0m in \u001b[0;36mget_loc\u001b[0;34m(self, key, method, tolerance)\u001b[0m\n\u001b[1;32m   2897\u001b[0m                 \u001b[0;32mreturn\u001b[0m \u001b[0mself\u001b[0m\u001b[0;34m.\u001b[0m\u001b[0m_engine\u001b[0m\u001b[0;34m.\u001b[0m\u001b[0mget_loc\u001b[0m\u001b[0;34m(\u001b[0m\u001b[0mkey\u001b[0m\u001b[0;34m)\u001b[0m\u001b[0;34m\u001b[0m\u001b[0;34m\u001b[0m\u001b[0m\n\u001b[1;32m   2898\u001b[0m             \u001b[0;32mexcept\u001b[0m \u001b[0mKeyError\u001b[0m\u001b[0;34m:\u001b[0m\u001b[0;34m\u001b[0m\u001b[0;34m\u001b[0m\u001b[0m\n\u001b[0;32m-> 2899\u001b[0;31m                 \u001b[0;32mreturn\u001b[0m \u001b[0mself\u001b[0m\u001b[0;34m.\u001b[0m\u001b[0m_engine\u001b[0m\u001b[0;34m.\u001b[0m\u001b[0mget_loc\u001b[0m\u001b[0;34m(\u001b[0m\u001b[0mself\u001b[0m\u001b[0;34m.\u001b[0m\u001b[0m_maybe_cast_indexer\u001b[0m\u001b[0;34m(\u001b[0m\u001b[0mkey\u001b[0m\u001b[0;34m)\u001b[0m\u001b[0;34m)\u001b[0m\u001b[0;34m\u001b[0m\u001b[0;34m\u001b[0m\u001b[0m\n\u001b[0m\u001b[1;32m   2900\u001b[0m         \u001b[0mindexer\u001b[0m \u001b[0;34m=\u001b[0m \u001b[0mself\u001b[0m\u001b[0;34m.\u001b[0m\u001b[0mget_indexer\u001b[0m\u001b[0;34m(\u001b[0m\u001b[0;34m[\u001b[0m\u001b[0mkey\u001b[0m\u001b[0;34m]\u001b[0m\u001b[0;34m,\u001b[0m \u001b[0mmethod\u001b[0m\u001b[0;34m=\u001b[0m\u001b[0mmethod\u001b[0m\u001b[0;34m,\u001b[0m \u001b[0mtolerance\u001b[0m\u001b[0;34m=\u001b[0m\u001b[0mtolerance\u001b[0m\u001b[0;34m)\u001b[0m\u001b[0;34m\u001b[0m\u001b[0;34m\u001b[0m\u001b[0m\n\u001b[1;32m   2901\u001b[0m         \u001b[0;32mif\u001b[0m \u001b[0mindexer\u001b[0m\u001b[0;34m.\u001b[0m\u001b[0mndim\u001b[0m \u001b[0;34m>\u001b[0m \u001b[0;36m1\u001b[0m \u001b[0;32mor\u001b[0m \u001b[0mindexer\u001b[0m\u001b[0;34m.\u001b[0m\u001b[0msize\u001b[0m \u001b[0;34m>\u001b[0m \u001b[0;36m1\u001b[0m\u001b[0;34m:\u001b[0m\u001b[0;34m\u001b[0m\u001b[0;34m\u001b[0m\u001b[0m\n",
      "\u001b[0;32mpandas/_libs/index.pyx\u001b[0m in \u001b[0;36mpandas._libs.index.IndexEngine.get_loc\u001b[0;34m()\u001b[0m\n",
      "\u001b[0;32mpandas/_libs/index.pyx\u001b[0m in \u001b[0;36mpandas._libs.index.IndexEngine.get_loc\u001b[0;34m()\u001b[0m\n",
      "\u001b[0;32mpandas/_libs/hashtable_class_helper.pxi\u001b[0m in \u001b[0;36mpandas._libs.hashtable.PyObjectHashTable.get_item\u001b[0;34m()\u001b[0m\n",
      "\u001b[0;32mpandas/_libs/hashtable_class_helper.pxi\u001b[0m in \u001b[0;36mpandas._libs.hashtable.PyObjectHashTable.get_item\u001b[0;34m()\u001b[0m\n",
      "\u001b[0;31mKeyError\u001b[0m: 2201"
     ]
    }
   ],
   "source": [
    "#平衡後的train\n",
    "train_s1=pd.DataFrame({'labels':pd.Series(label_1),'text':pd.Series(train_s1Tx)})\n",
    "train_s0=pd.DataFrame({'labels':pd.Series(label_0),'text':pd.Series(train_s0Tx)})\n",
    "train=pd.concat([train_s1, train_s0]) # axis=0 as defaul\n",
    "random.seed(1)\n",
    "random.shuffle(train)"
   ]
  },
  {
   "cell_type": "code",
   "execution_count": 216,
   "metadata": {
    "ExecuteTime": {
     "end_time": "2021-07-02T13:04:37.645406Z",
     "start_time": "2021-07-02T13:04:37.627421Z"
    }
   },
   "outputs": [
    {
     "data": {
      "text/html": [
       "<div>\n",
       "<style scoped>\n",
       "    .dataframe tbody tr th:only-of-type {\n",
       "        vertical-align: middle;\n",
       "    }\n",
       "\n",
       "    .dataframe tbody tr th {\n",
       "        vertical-align: top;\n",
       "    }\n",
       "\n",
       "    .dataframe thead th {\n",
       "        text-align: right;\n",
       "    }\n",
       "</style>\n",
       "<table border=\"1\" class=\"dataframe\">\n",
       "  <thead>\n",
       "    <tr style=\"text-align: right;\">\n",
       "      <th></th>\n",
       "      <th>labels</th>\n",
       "      <th>text</th>\n",
       "    </tr>\n",
       "  </thead>\n",
       "  <tbody>\n",
       "    <tr>\n",
       "      <th>2333</th>\n",
       "      <td>0</td>\n",
       "      <td>講 變革 市民 負擔 公車 民營化 場地 設備 車輛 市民 好處 去年 記得 搭 收費 公車...</td>\n",
       "    </tr>\n",
       "    <tr>\n",
       "      <th>386</th>\n",
       "      <td>1</td>\n",
       "      <td>高雄市 氣候變遷 調適費 不應該 議員 幫 市政府 背書 環保局 長 說 署長 請 環保局 ...</td>\n",
       "    </tr>\n",
       "    <tr>\n",
       "      <th>4675</th>\n",
       "      <td>0</td>\n",
       "      <td>洪議員秀錦 農業局 長 記得 次 建議 紅豆 事 瞭解   昨天 報紙 報導 農糧署 地方 ...</td>\n",
       "    </tr>\n",
       "    <tr>\n",
       "      <th>4285</th>\n",
       "      <td>0</td>\n",
       "      <td>林 議員 義大二路 事業 彭克曼樑 撓度 專業 技術 不了解 義大二路 崩塌 義大二路 當年...</td>\n",
       "    </tr>\n",
       "    <tr>\n",
       "      <th>4768</th>\n",
       "      <td>0</td>\n",
       "      <td>目前 學校 營養午餐 獨居老人 社團 送 便當 大部分 食用 豬肉 雞肉 鴨肉 牛肉 比例 ...</td>\n",
       "    </tr>\n",
       "  </tbody>\n",
       "</table>\n",
       "</div>"
      ],
      "text/plain": [
       "      labels                                               text\n",
       "2333       0  講 變革 市民 負擔 公車 民營化 場地 設備 車輛 市民 好處 去年 記得 搭 收費 公車...\n",
       "386        1  高雄市 氣候變遷 調適費 不應該 議員 幫 市政府 背書 環保局 長 說 署長 請 環保局 ...\n",
       "4675       0  洪議員秀錦 農業局 長 記得 次 建議 紅豆 事 瞭解   昨天 報紙 報導 農糧署 地方 ...\n",
       "4285       0  林 議員 義大二路 事業 彭克曼樑 撓度 專業 技術 不了解 義大二路 崩塌 義大二路 當年...\n",
       "4768       0  目前 學校 營養午餐 獨居老人 社團 送 便當 大部分 食用 豬肉 雞肉 鴨肉 牛肉 比例 ..."
      ]
     },
     "execution_count": 216,
     "metadata": {},
     "output_type": "execute_result"
    }
   ],
   "source": [
    "test_t_data[0:5]"
   ]
  },
  {
   "cell_type": "markdown",
   "metadata": {},
   "source": [
    "###  dump no labeled file for prediction , and skip length <= 50 records"
   ]
  },
  {
   "cell_type": "code",
   "execution_count": 280,
   "metadata": {
    "ExecuteTime": {
     "end_time": "2021-07-03T02:55:54.544861Z",
     "start_time": "2021-07-03T02:55:53.896336Z"
    }
   },
   "outputs": [
    {
     "name": "stdout",
     "output_type": "stream",
     "text": [
      "\n",
      "待預測資料 vfTx 筆數:  25112\n",
      "---------------------------------------------\n"
     ]
    }
   ],
   "source": [
    "csvVerify = open(\"N1-CkipNewsCisDepNoLabel-25181-KccDict2020-NoStopNoSyn.txt\", 'r', newline='', encoding='utf-8-sig')\n",
    "#的確是沒label，主題類別跟情緒的欄位全部都是0\n",
    "rowVf = csv.reader(csvVerify)       # read verify data from no labeled file\n",
    "vfTx = []\n",
    "vfFilename = []\n",
    "for rowV in rowVf:\n",
    "    if (len(rowV[4]) > 50) and ((\"/\" in row[1])== False):\n",
    "        vfTx.append(rowV[4])\n",
    "        vfFilename.append(rowV[1])\n",
    "csvVerify.close()\n",
    "\n",
    "print(\"\")\n",
    "print(\"待預測資料 vfTx 筆數: \",len(vfTx))\n",
    "#print(\"vfTx[10] = \",vfTx[10])\n",
    "print(\"---------------------------------------------\")"
   ]
  },
  {
   "cell_type": "markdown",
   "metadata": {},
   "source": [
    "## Step 2: 設定常用字詞典並編碼\n",
    "###  設定常用字詞典, 並以 trainTx 內容進行編碼"
   ]
  },
  {
   "cell_type": "code",
   "execution_count": 218,
   "metadata": {
    "ExecuteTime": {
     "end_time": "2021-07-02T13:09:22.600147Z",
     "start_time": "2021-07-02T13:09:20.821084Z"
    }
   },
   "outputs": [
    {
     "name": "stdout",
     "output_type": "stream",
     "text": [
      "Total document_count =  6457\n",
      "real vocab_size =  67942\n"
     ]
    }
   ],
   "source": [
    "# 訓練data 實際 vocab_size約 82072 字\n",
    "# vocab_size = 30000\n",
    "vocab_size = 50000\n",
    "# vocab_size = 70000\n",
    "token = Tokenizer(num_words = vocab_size)\n",
    "# token = Tokenizer()\n",
    "\n",
    "token.fit_on_texts(data)\n",
    "# vocab_size = len(token.word_index) + 1 \n",
    "\n",
    "print(\"Total document_count = \", token.document_count)\n",
    "print(\"real vocab_size = \", len(token.word_index) + 1 )"
   ]
  },
  {
   "cell_type": "markdown",
   "metadata": {},
   "source": [
    "## Step 3. 文字轉數字\n",
    "### 將 token 載入的文件轉為數字 list, 並切齊長度"
   ]
  },
  {
   "cell_type": "code",
   "execution_count": 220,
   "metadata": {
    "ExecuteTime": {
     "end_time": "2021-07-02T13:13:07.652522Z",
     "start_time": "2021-07-02T13:13:05.247960Z"
    }
   },
   "outputs": [
    {
     "name": "stdout",
     "output_type": "stream",
     "text": [
      "==============  texts_to_sequences  ===========================\n",
      "trainTx[100] =  100    食安 相關 昨天 江揆 提到 食安 綁 統籌 分配 款 曉得 最近 食安 中央 責任 推到 ...\n",
      "100    氣爆 因素 地球 暖化 關係 喚起 各界 包括 市民 人士 環保局 說 送 法規 審 議長 ...\n",
      "Name: text, dtype: object\n",
      "\n",
      "x_train_seq[100] =  [2017, 34, 436, 44291, 38, 2017, 4365, 1309, 690, 1654, 636, 156, 2017, 25, 237, 5654, 10, 590, 453, 256, 436, 15612, 575, 179, 616, 179, 259, 1361, 73, 590, 68, 85, 220, 9, 4344, 18369, 17, 1138, 19, 2017, 2201, 4147, 8010, 156, 1728, 1517, 414, 279, 25, 2807, 211, 73, 46, 237, 5654, 10, 9, 368, 2017, 4365, 1309, 690, 1654, 2193, 1309, 5352, 14, 7, 368, 256, 2017, 4365, 1309, 690, 1654, 9, 164, 285, 673, 9, 4, 32, 147, 1119, 2017, 414, 82, 5, 2163, 4224, 82, 5, 840, 2318, 10545, 44292, 2017, 3775, 840, 140, 4645, 615, 3, 4224, 2017, 2087, 436, 712, 2017, 6551, 25, 1097, 6731, 307, 249, 318, 2017, 2167, 152, 352, 735, 10, 43, 237, 25, 43, 237, 352, 735, 10, 43, 880, 808, 22, 6551, 438, 276, 73, 2017, 414, 175, 438, 7172, 2342, 324, 6551, 7, 368, 10, 82, 5, 38, 6551, 10, 14, 5677, 25, 1, 690, 276, 304, 245, 304, 543, 14, 151, 318, 422, 318, 3217, 341, 392, 6533, 2017, 1663, 15020, 192, 54, 1663, 25, 379, 1663, 307, 2925, 9247, 1541, 26, 17927, 336, 1309, 5352, 7172, 10, 43, 135, 54, 133, 6533, 1116, 285, 1309, 5352, 2837, 1324, 17, 9, 38, 3217, 500, 1615, 44, 450, 179, 566, 259, 4882, 11, 3217, 2849, 335, 872, 130, 365, 335, 483, 844, 7, 14, 1097, 690, 318, 690, 7, 1309, 690, 3924, 2263, 4365, 2017, 222, 368, 902]\n",
      "--------------- pad_sequences ---------------------------------\n",
      "x_train[333] =  [717 500   9 ...   0   0   0]\n",
      "\n",
      "x_test[125] =  [  24 1858    4 ...    0    0    0]\n"
     ]
    }
   ],
   "source": [
    "trainTx=train['text']\n",
    "testTx=test_t_data['text']\n",
    "print(\"==============  texts_to_sequences  ===========================\")\n",
    "x_train_seq = token.texts_to_sequences(trainTx)\n",
    "x_test_seq = token.texts_to_sequences(testTx)\n",
    "print(\"trainTx[100] = \",trainTx[100])\n",
    "print(\"\")\n",
    "print(\"x_train_seq[100] = \",x_train_seq[100])\n",
    "print(\"--------------- pad_sequences ---------------------------------\")\n",
    "\n",
    "# 新聞-市總-部門質詢(News-CIS-Dept)資料長度: 斷詞後 News最長約500字, CIS分割後每筆最長約1000字, Dept 分割後每筆最長約800字\n",
    "#max_length = 500\n",
    "# max_length = 750\n",
    "max_length = 1500\n",
    "\n",
    "x_train = sequence.pad_sequences(x_train_seq, maxlen=max_length, padding='post')\n",
    "print(\"x_train[333] = \",x_train[333])\n",
    "print(\"\")\n",
    "x_test = sequence.pad_sequences(x_test_seq, maxlen=max_length, padding='post')\n",
    "print(\"x_test[125] = \",x_test[125])"
   ]
  },
  {
   "cell_type": "markdown",
   "metadata": {},
   "source": [
    "### Step 4. 建立數字轉向量層\n",
    "#### 建立 Sequential model\n",
    "#### 加入 Embedding 層"
   ]
  },
  {
   "cell_type": "code",
   "execution_count": 221,
   "metadata": {
    "ExecuteTime": {
     "end_time": "2021-07-02T13:14:36.005919Z",
     "start_time": "2021-07-02T13:14:36.000951Z"
    }
   },
   "outputs": [],
   "source": [
    "from tensorflow.keras.models import Sequential, load_model\n",
    "from keras.layers.core import Dense, Dropout, Activation, Flatten\n",
    "from keras.layers.embeddings import Embedding"
   ]
  },
  {
   "cell_type": "code",
   "execution_count": 222,
   "metadata": {
    "ExecuteTime": {
     "end_time": "2021-07-02T13:17:18.798197Z",
     "start_time": "2021-07-02T13:17:18.752494Z"
    }
   },
   "outputs": [],
   "source": [
    "# ------------------------------  convert to numpy array for new tensorflow version ---------------------------------------\n",
    "trainLabel=train['labels']\n",
    "testLabel=test_t_data['labels']\n",
    "x_val = np.array(x_train[:600])\n",
    "partial_x_train = np.array(x_train[600:])\n",
    "y_val = np.array(trainLabel[:600])\n",
    "partial_trainLabel = np.array(trainLabel[600:])\n",
    "#上面幹嘛\n",
    "x_train = np.array(x_train)\n",
    "trainLabel = np.array(trainLabel)\n",
    "x_test = np.array(x_test)\n",
    "testLabel = np.array(testLabel)\n",
    "\n",
    "model = tensorflow.keras.Sequential() \n",
    "model.add(tensorflow.keras.layers.Embedding(output_dim=512, input_dim=vocab_size, input_length=max_length)) \n",
    "model.add(tensorflow.keras.layers.Dropout(0.2))"
   ]
  },
  {
   "cell_type": "markdown",
   "metadata": {},
   "source": [
    "##  Step 5. Add multiple deep learning layers and start to train"
   ]
  },
  {
   "cell_type": "markdown",
   "metadata": {},
   "source": [
    "原先試epochs=6，每個epochs的val_acc:[0.8666667, 1.0, 1.0, 1.0, 1.0, 1.0]，到epochs=2已經overfitting了\n",
    "後來把batch_size由50->32，epochs=2改成2 'val_acc': [0.99833333, 0.995]}\n",
    "epochs=2改成1 0.99833333, 0.995 test acc上升成 96.981424"
   ]
  },
  {
   "cell_type": "code",
   "execution_count": 301,
   "metadata": {
    "ExecuteTime": {
     "end_time": "2021-07-03T13:45:40.911413Z",
     "start_time": "2021-07-03T13:35:35.494512Z"
    },
    "scrolled": false
   },
   "outputs": [
    {
     "name": "stdout",
     "output_type": "stream",
     "text": [
      "summarize the model\n",
      "Model: \"sequential_9\"\n",
      "_________________________________________________________________\n",
      "Layer (type)                 Output Shape              Param #   \n",
      "=================================================================\n",
      "embedding_2 (Embedding)      (None, 1500, 512)         25600000  \n",
      "_________________________________________________________________\n",
      "dropout_13 (Dropout)         (None, 1500, 512)         0         \n",
      "_________________________________________________________________\n",
      "flatten_5 (Flatten)          (None, 768000)            0         \n",
      "_________________________________________________________________\n",
      "dense_16 (Dense)             (None, 256)               196608256 \n",
      "_________________________________________________________________\n",
      "dropout_14 (Dropout)         (None, 256)               0         \n",
      "_________________________________________________________________\n",
      "dense_17 (Dense)             (None, 64)                16448     \n",
      "_________________________________________________________________\n",
      "dropout_15 (Dropout)         (None, 64)                0         \n",
      "_________________________________________________________________\n",
      "dense_18 (Dense)             (None, 16)                1040      \n",
      "_________________________________________________________________\n",
      "dropout_16 (Dropout)         (None, 16)                0         \n",
      "_________________________________________________________________\n",
      "dense_19 (Dense)             (None, 1)                 17        \n",
      "_________________________________________________________________\n",
      "flatten_6 (Flatten)          (None, 1)                 0         \n",
      "_________________________________________________________________\n",
      "dense_20 (Dense)             (None, 256)               512       \n",
      "_________________________________________________________________\n",
      "dropout_17 (Dropout)         (None, 256)               0         \n",
      "_________________________________________________________________\n",
      "dense_21 (Dense)             (None, 64)                16448     \n",
      "_________________________________________________________________\n",
      "dropout_18 (Dropout)         (None, 64)                0         \n",
      "_________________________________________________________________\n",
      "dense_22 (Dense)             (None, 16)                1040      \n",
      "_________________________________________________________________\n",
      "dropout_19 (Dropout)         (None, 16)                0         \n",
      "_________________________________________________________________\n",
      "dense_23 (Dense)             (None, 1)                 17        \n",
      "_________________________________________________________________\n",
      "flatten_7 (Flatten)          (None, 1)                 0         \n",
      "_________________________________________________________________\n",
      "dense_24 (Dense)             (None, 256)               512       \n",
      "_________________________________________________________________\n",
      "dropout_20 (Dropout)         (None, 256)               0         \n",
      "_________________________________________________________________\n",
      "dense_25 (Dense)             (None, 64)                16448     \n",
      "_________________________________________________________________\n",
      "dropout_21 (Dropout)         (None, 64)                0         \n",
      "_________________________________________________________________\n",
      "dense_26 (Dense)             (None, 16)                1040      \n",
      "_________________________________________________________________\n",
      "dropout_22 (Dropout)         (None, 16)                0         \n",
      "_________________________________________________________________\n",
      "dense_27 (Dense)             (None, 1)                 17        \n",
      "_________________________________________________________________\n",
      "flatten_8 (Flatten)          (None, 1)                 0         \n",
      "_________________________________________________________________\n",
      "dense_28 (Dense)             (None, 256)               512       \n",
      "_________________________________________________________________\n",
      "dropout_23 (Dropout)         (None, 256)               0         \n",
      "_________________________________________________________________\n",
      "dense_29 (Dense)             (None, 64)                16448     \n",
      "_________________________________________________________________\n",
      "dropout_24 (Dropout)         (None, 64)                0         \n",
      "_________________________________________________________________\n",
      "dense_30 (Dense)             (None, 16)                1040      \n",
      "_________________________________________________________________\n",
      "dropout_25 (Dropout)         (None, 16)                0         \n",
      "_________________________________________________________________\n",
      "dense_31 (Dense)             (None, 1)                 17        \n",
      "_________________________________________________________________\n",
      "flatten_9 (Flatten)          (None, 1)                 0         \n",
      "_________________________________________________________________\n",
      "dense_32 (Dense)             (None, 256)               512       \n",
      "_________________________________________________________________\n",
      "dropout_26 (Dropout)         (None, 256)               0         \n",
      "_________________________________________________________________\n",
      "dense_33 (Dense)             (None, 64)                16448     \n",
      "_________________________________________________________________\n",
      "dropout_27 (Dropout)         (None, 64)                0         \n",
      "_________________________________________________________________\n",
      "dense_34 (Dense)             (None, 16)                1040      \n",
      "_________________________________________________________________\n",
      "dropout_28 (Dropout)         (None, 16)                0         \n",
      "_________________________________________________________________\n",
      "dense_35 (Dense)             (None, 1)                 17        \n",
      "_________________________________________________________________\n",
      "flatten_10 (Flatten)         (None, 1)                 0         \n",
      "_________________________________________________________________\n",
      "dense_36 (Dense)             (None, 256)               512       \n",
      "_________________________________________________________________\n",
      "dropout_29 (Dropout)         (None, 256)               0         \n",
      "_________________________________________________________________\n",
      "dense_37 (Dense)             (None, 64)                16448     \n",
      "_________________________________________________________________\n",
      "dropout_30 (Dropout)         (None, 64)                0         \n",
      "_________________________________________________________________\n",
      "dense_38 (Dense)             (None, 16)                1040      \n",
      "_________________________________________________________________\n",
      "dropout_31 (Dropout)         (None, 16)                0         \n",
      "_________________________________________________________________\n",
      "dense_39 (Dense)             (None, 1)                 17        \n",
      "=================================================================\n",
      "Total params: 222,315,846\n",
      "Trainable params: 222,315,846\n",
      "Non-trainable params: 0\n",
      "_________________________________________________________________\n",
      "None\n",
      "Train on 8137 samples, validate on 600 samples\n",
      "Epoch 1/2\n",
      "Epoch 2/2\n"
     ]
    }
   ],
   "source": [
    "# ---------------Flatten layer  output = output_dim * input_length = 32 * 100 ---------\n",
    "model.add(keras.layers.Flatten())\n",
    "\n",
    "# -----------------------------hidden layer: 1st Dense() ----------------------\n",
    "model.add(tensorflow.keras.layers.Dense(units=256,activation='relu'))\n",
    "model.add(tensorflow.keras.layers.Dropout(0.35))\n",
    "\n",
    "# ----------------------------output layer: 2nd Dense() -----------------------\n",
    "model.add(tensorflow.keras.layers.Dense(units=64,activation='relu'))\n",
    "model.add(tensorflow.keras.layers.Dropout(0.2))\n",
    "\n",
    "# ----------------------------output layer: 3rd Dense() -----------------------\n",
    "model.add(tensorflow.keras.layers.Dense(units=16,activation='relu'))\n",
    "model.add(tensorflow.keras.layers.Dropout(0.2))\n",
    "\n",
    "# ----------------------------output layer -------------------------------------\n",
    "model.add(tensorflow.keras.layers.Dense(units=1,activation='sigmoid'))\n",
    "\n",
    "# model.compile(loss='binary_crossentropy', optimizer='adam', metrics=['accuracy'])\n",
    "model.compile(loss='binary_crossentropy', optimizer='rmsprop', metrics=['accuracy'])\n",
    "print(\"summarize the model\")\n",
    "print(model.summary()) \n",
    "\n",
    "history = model.fit(partial_x_train, partial_trainLabel, batch_size=32, epochs=2, verbose=3, validation_data=(x_val,y_val))\n",
    "#history = model.fit(x_train, trainLabel, batch_size=50, epochs=6, verbose=2, validation_split=0.2)\n",
    "# batch_size: Number of samples per gradient update, default = 32\n",
    "# epochs: 訓練次數\n",
    "# verbose: 0 = silent, 1 = progress bar, 2 = one line per epoch.\n",
    "\n",
    "# model.save_weights(\"BiClsMLP-weights-NewsCIS-KCCWord2Vec512.h5\")  # save trained weights to HDF5 file\n",
    "# model.save_weights(\"BiClsMLP-NewsCIS-PreTrain_CNA512.h5\")\n",
    "\n",
    "#model.save(\"6-2-1-BiClsMLP-NewsCisDept-balance-shuffle-rmsprop.h5\")  # save trained model to HDF5 file"
   ]
  },
  {
   "cell_type": "markdown",
   "metadata": {},
   "source": [
    "### Plotting the training and validation lose side by side"
   ]
  },
  {
   "cell_type": "code",
   "execution_count": 308,
   "metadata": {
    "ExecuteTime": {
     "end_time": "2021-07-03T13:48:40.659549Z",
     "start_time": "2021-07-03T13:48:26.133941Z"
    }
   },
   "outputs": [],
   "source": [
    "model.save(\"6-2-1-BiClsMLP-NewsCisDept-balance-shuffle-rmsprop.h5\")  # save"
   ]
  },
  {
   "cell_type": "code",
   "execution_count": 305,
   "metadata": {
    "ExecuteTime": {
     "end_time": "2021-07-03T13:46:44.832315Z",
     "start_time": "2021-07-03T13:46:44.829590Z"
    }
   },
   "outputs": [
    {
     "data": {
      "text/plain": [
       "{'loss': [0.10861640529600573, 0.043682916684487545],\n",
       " 'acc': [0.9912744, 0.99410105],\n",
       " 'val_loss': [0.03259611491405091, 0.028195243076065708],\n",
       " 'val_acc': [0.995, 0.995]}"
      ]
     },
     "execution_count": 305,
     "metadata": {},
     "output_type": "execute_result"
    }
   ],
   "source": [
    "history_dict\n",
    "#1-sum(trainLabel)/len(trainLabel)"
   ]
  },
  {
   "cell_type": "code",
   "execution_count": 303,
   "metadata": {
    "ExecuteTime": {
     "end_time": "2021-07-03T13:45:41.554133Z",
     "start_time": "2021-07-03T13:45:40.929309Z"
    }
   },
   "outputs": [
    {
     "data": {
      "image/png": "[encoded data removed]",
      "text/plain": [
       "<Figure size 432x288 with 1 Axes>"
      ]
     },
     "metadata": {
      "needs_background": "light"
     },
     "output_type": "display_data"
    },
    {
     "data": {
      "image/png": "[encoded data removed]",
      "text/plain": [
       "<Figure size 432x288 with 1 Axes>"
      ]
     },
     "metadata": {
      "needs_background": "light"
     },
     "output_type": "display_data"
    }
   ],
   "source": [
    "history_dict = history.history\n",
    "loss_values = history_dict['loss']\n",
    "val_loss_values = history_dict['val_loss']\n",
    "acc_values = history_dict['acc']\n",
    "val_acc_values = history_dict['val_acc']\n",
    "\n",
    "epochs = range(1, len(history_dict['acc']) + 1)\n",
    "\n",
    "plt.figure()\n",
    "plt.plot(epochs, loss_values, 'bo', label='Training loss')\n",
    "plt.plot(epochs, val_loss_values, 'b', label='Validation loss')\n",
    "plt.title('Training and validation loss')\n",
    "plt.xlabel('Epochs')\n",
    "plt.ylabel('Loss')\n",
    "plt.legend()\n",
    "\n",
    "plt.figure()\n",
    "plt.plot(epochs, acc_values, 'bo', label='Training val_accuracy')\n",
    "plt.plot(epochs, val_acc_values, 'b', label='Validation val_accuracy')\n",
    "plt.title('Training and validation accuracy')\n",
    "plt.xlabel('Epochs')\n",
    "plt.ylabel('Accuracy')\n",
    "plt.legend()\n",
    "plt.show()"
   ]
  },
  {
   "cell_type": "markdown",
   "metadata": {},
   "source": [
    "##  Evaluate and predict"
   ]
  },
  {
   "cell_type": "code",
   "execution_count": 317,
   "metadata": {
    "ExecuteTime": {
     "end_time": "2021-07-04T02:57:38.769341Z",
     "start_time": "2021-07-04T02:57:31.445858Z"
    }
   },
   "outputs": [
    {
     "name": "stdout",
     "output_type": "stream",
     "text": [
      "1292/1292 [==============================] - 4s 3ms/sample - loss: 0.2131 - acc: 0.9690\n",
      "Accuracy: 96.904027\n"
     ]
    }
   ],
   "source": [
    "accuracy = model.evaluate(x_test, testLabel, verbose=1) \n",
    "#  print('Accuracy[0]: %f' % (accuracy[0] * 100))\n",
    "print('Accuracy: %f' % (accuracy[1] * 100))\n",
    "\n",
    "\n",
    "# ========== predict test data and write to file: 6-CisBi_Pred_Test.csv ==========================\n",
    "predict = model.predict_classes(x_test)\n",
    "predictClass = predict.reshape(-1)\n",
    "\n",
    "csvTest_path = \"6-2-1-BiClsMLP-NewsCisDept-balance-shuffle-rmsprop-PredCk.csv\"\n",
    "ckCunt = 0\n",
    "#96.904027"
   ]
  },
  {
   "cell_type": "code",
   "execution_count": 318,
   "metadata": {
    "ExecuteTime": {
     "end_time": "2021-07-04T02:57:58.869348Z",
     "start_time": "2021-07-04T02:57:58.861912Z"
    }
   },
   "outputs": [
    {
     "data": {
      "text/plain": [
       "array([[1058,    6],\n",
       "       [  34,  194]])"
      ]
     },
     "execution_count": 318,
     "metadata": {},
     "output_type": "execute_result"
    }
   ],
   "source": [
    "#cftb=table(predict,testLable)\n",
    "from sklearn.metrics import confusion_matrix\n",
    "confusion_matrix(testLabel, predict, labels=None, sample_weight=None)\n",
    "#tn, fp, fn, tp = sklearn.metrics.confusion_matrix(testLable, predict, labels=None, sample_weight=None).ravel()\n",
    "\n",
    "#print(predict[1:10])"
   ]
  },
  {
   "cell_type": "code",
   "execution_count": 285,
   "metadata": {
    "ExecuteTime": {
     "end_time": "2021-07-03T03:11:03.280600Z",
     "start_time": "2021-07-03T03:11:03.236682Z"
    }
   },
   "outputs": [],
   "source": [
    "testTx=np.array(testTx)\n",
    "with open(csvTest_path ,\"w\", newline='', encoding='utf-8-sig') as csvTest_file:\n",
    "    writer = csv.writer(csvTest_file)\n",
    "    #writer.writerow([\"SeqNO\", \"Text\", \"Label\", \"Predict\", \"Check\"])\n",
    "    writer.writerow([\"SeqNO\", \"Text\", \"Label\", \"Predict\"])\n",
    "    #writer.writerow([\"Predict\"])\n",
    "    for i in range(0,len(predictClass)):\n",
    "         #ck = \"\"\n",
    "        #if testLabel[i] != predictClass[i]:\n",
    "            #ck = \"Check\"\n",
    "            #ckCunt += 1\n",
    "        writer.writerow([i+1, testTx[i], testLabel[i], predictClass[i]])\n",
    "        #writer.writerow([predictClass[i]])\n",
    "        #,'Text':testTx[i], 'Label':testLabel[i],'Predict':predictClass[i]\n",
    "     #writer.writerow([\"總測試筆數=\",i,\"不符筆數=\",ckCunt,ckCunt/i])\n",
    "#print(\"Checked/Total = %d / %d \" %(ckCunt,i))\n"
   ]
  },
  {
   "cell_type": "code",
   "execution_count": 300,
   "metadata": {
    "ExecuteTime": {
     "end_time": "2021-07-03T13:34:57.044653Z",
     "start_time": "2021-07-03T13:34:57.041760Z"
    }
   },
   "outputs": [
    {
     "data": {
      "text/plain": [
       "0.8235294117647058"
      ]
     },
     "execution_count": 300,
     "metadata": {},
     "output_type": "execute_result"
    }
   ],
   "source": [
    "1-sum(testLabel)/len(testLabel)"
   ]
  },
  {
   "cell_type": "markdown",
   "metadata": {},
   "source": [
    "##  Predict Verify data and write to file"
   ]
  },
  {
   "cell_type": "code",
   "execution_count": 286,
   "metadata": {
    "ExecuteTime": {
     "end_time": "2021-07-03T03:13:14.447935Z",
     "start_time": "2021-07-03T03:11:54.518926Z"
    }
   },
   "outputs": [
    {
     "name": "stdout",
     "output_type": "stream",
     "text": [
      "Total predict records =  25111\n"
     ]
    }
   ],
   "source": [
    "# ----------- output file可置換成標的議員資料 -----------------------\n",
    "vfTx_seq = token.texts_to_sequences(vfTx)\n",
    "vfTx_pad = sequence.pad_sequences(vfTx_seq, maxlen=max_length, padding='post')\n",
    "predNew = model.predict_classes(vfTx_pad)\n",
    "predNewClass = predNew.reshape(-1)\n",
    "\n",
    "csvPredict_path = \"6-2-1-BiClsMLP-NewsCisDept-balance-shuffle-rmsprop-Predict.csv\"\n",
    "with open(csvPredict_path ,\"w\", newline='', encoding='utf-8-sig') as csvNew_file:\n",
    "    writer = csv.writer(csvNew_file)\n",
    "    writer.writerow([\"SeqNO\",\"FileName\",\"Text\", \"Predict\"])\n",
    "    for i in range(0,len(predNewClass)):\n",
    "        writer.writerow([i+1,vfFilename[i] ,vfTx[i], predNewClass[i]])\n",
    "print(\"Total predict records = \", i)"
   ]
  },
  {
   "cell_type": "markdown",
   "metadata": {},
   "source": [
    "統計分析"
   ]
  },
  {
   "cell_type": "code",
   "execution_count": null,
   "metadata": {},
   "outputs": [],
   "source": [
    "讀黨合併\n",
    "撈出非新聞的\n"
   ]
  }
 ],
 "metadata": {
  "kernelspec": {
   "display_name": "Python 3",
   "language": "python",
   "name": "python3"
  },
  "language_info": {
   "codemirror_mode": {
    "name": "ipython",
    "version": 3
   },
   "file_extension": ".py",
   "mimetype": "text/x-python",
   "name": "python",
   "nbconvert_exporter": "python",
   "pygments_lexer": "ipython3",
   "version": "3.7.4"
  }
 },
 "nbformat": 4,
 "nbformat_minor": 4
}
